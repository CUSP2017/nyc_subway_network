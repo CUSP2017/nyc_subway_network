{
 "cells": [
  {
   "cell_type": "code",
   "execution_count": 1,
   "metadata": {
    "collapsed": true
   },
   "outputs": [],
   "source": [
    "import pandas as pd \n",
    "import numpy as np"
   ]
  },
  {
   "cell_type": "code",
   "execution_count": 8,
   "metadata": {
    "collapsed": false
   },
   "outputs": [],
   "source": [
    "demand = pd.read_csv('demand.csv',index_col=0)"
   ]
  },
  {
   "cell_type": "code",
   "execution_count": 9,
   "metadata": {
    "collapsed": false
   },
   "outputs": [
    {
     "data": {
      "text/html": [
       "<div>\n",
       "<style>\n",
       "    .dataframe thead tr:only-child th {\n",
       "        text-align: right;\n",
       "    }\n",
       "\n",
       "    .dataframe thead th {\n",
       "        text-align: left;\n",
       "    }\n",
       "\n",
       "    .dataframe tbody tr th {\n",
       "        vertical-align: top;\n",
       "    }\n",
       "</style>\n",
       "<table border=\"1\" class=\"dataframe\">\n",
       "  <thead>\n",
       "    <tr style=\"text-align: right;\">\n",
       "      <th></th>\n",
       "      <th>1 Av_0</th>\n",
       "      <th>103 St - Corona Plaza_0</th>\n",
       "      <th>103 St_0</th>\n",
       "      <th>103 St_1</th>\n",
       "      <th>103 St_2</th>\n",
       "      <th>104 St_0</th>\n",
       "      <th>104 St_1</th>\n",
       "      <th>110 St_0</th>\n",
       "      <th>111 St_0</th>\n",
       "      <th>111 St_1</th>\n",
       "      <th>...</th>\n",
       "      <th>Whitlock Av_0</th>\n",
       "      <th>Wilson Av_0</th>\n",
       "      <th>Winthrop St_0</th>\n",
       "      <th>Woodhaven Blvd_0</th>\n",
       "      <th>Woodhaven Blvd_1</th>\n",
       "      <th>Woodlawn_0</th>\n",
       "      <th>Woodside - 61 St_0</th>\n",
       "      <th>World Trade Center_0</th>\n",
       "      <th>York St_0</th>\n",
       "      <th>Zerega Av_0</th>\n",
       "    </tr>\n",
       "    <tr>\n",
       "      <th>work_station</th>\n",
       "      <th></th>\n",
       "      <th></th>\n",
       "      <th></th>\n",
       "      <th></th>\n",
       "      <th></th>\n",
       "      <th></th>\n",
       "      <th></th>\n",
       "      <th></th>\n",
       "      <th></th>\n",
       "      <th></th>\n",
       "      <th></th>\n",
       "      <th></th>\n",
       "      <th></th>\n",
       "      <th></th>\n",
       "      <th></th>\n",
       "      <th></th>\n",
       "      <th></th>\n",
       "      <th></th>\n",
       "      <th></th>\n",
       "      <th></th>\n",
       "      <th></th>\n",
       "    </tr>\n",
       "  </thead>\n",
       "  <tbody>\n",
       "    <tr>\n",
       "      <th>1 Av_0</th>\n",
       "      <td>70.0</td>\n",
       "      <td>70.0</td>\n",
       "      <td>15.0</td>\n",
       "      <td>40.0</td>\n",
       "      <td>30.0</td>\n",
       "      <td>0.0</td>\n",
       "      <td>10.0</td>\n",
       "      <td>0.0</td>\n",
       "      <td>25.0</td>\n",
       "      <td>50.0</td>\n",
       "      <td>...</td>\n",
       "      <td>25.0</td>\n",
       "      <td>15.0</td>\n",
       "      <td>10.0</td>\n",
       "      <td>20.0</td>\n",
       "      <td>30.0</td>\n",
       "      <td>0.0</td>\n",
       "      <td>55.0</td>\n",
       "      <td>0.0</td>\n",
       "      <td>0.0</td>\n",
       "      <td>0.0</td>\n",
       "    </tr>\n",
       "    <tr>\n",
       "      <th>103 St - Corona Plaza_0</th>\n",
       "      <td>0.0</td>\n",
       "      <td>40.0</td>\n",
       "      <td>0.0</td>\n",
       "      <td>0.0</td>\n",
       "      <td>0.0</td>\n",
       "      <td>0.0</td>\n",
       "      <td>0.0</td>\n",
       "      <td>0.0</td>\n",
       "      <td>25.0</td>\n",
       "      <td>15.0</td>\n",
       "      <td>...</td>\n",
       "      <td>0.0</td>\n",
       "      <td>0.0</td>\n",
       "      <td>0.0</td>\n",
       "      <td>0.0</td>\n",
       "      <td>0.0</td>\n",
       "      <td>0.0</td>\n",
       "      <td>15.0</td>\n",
       "      <td>0.0</td>\n",
       "      <td>0.0</td>\n",
       "      <td>0.0</td>\n",
       "    </tr>\n",
       "  </tbody>\n",
       "</table>\n",
       "<p>2 rows × 465 columns</p>\n",
       "</div>"
      ],
      "text/plain": [
       "                         1 Av_0  103 St - Corona Plaza_0  103 St_0  103 St_1  \\\n",
       "work_station                                                                   \n",
       "1 Av_0                     70.0                     70.0      15.0      40.0   \n",
       "103 St - Corona Plaza_0     0.0                     40.0       0.0       0.0   \n",
       "\n",
       "                         103 St_2  104 St_0  104 St_1  110 St_0  111 St_0  \\\n",
       "work_station                                                                \n",
       "1 Av_0                       30.0       0.0      10.0       0.0      25.0   \n",
       "103 St - Corona Plaza_0       0.0       0.0       0.0       0.0      25.0   \n",
       "\n",
       "                         111 St_1     ...       Whitlock Av_0  Wilson Av_0  \\\n",
       "work_station                          ...                                    \n",
       "1 Av_0                       50.0     ...                25.0         15.0   \n",
       "103 St - Corona Plaza_0      15.0     ...                 0.0          0.0   \n",
       "\n",
       "                         Winthrop St_0  Woodhaven Blvd_0  Woodhaven Blvd_1  \\\n",
       "work_station                                                                 \n",
       "1 Av_0                            10.0              20.0              30.0   \n",
       "103 St - Corona Plaza_0            0.0               0.0               0.0   \n",
       "\n",
       "                         Woodlawn_0  Woodside - 61 St_0  World Trade Center_0  \\\n",
       "work_station                                                                    \n",
       "1 Av_0                          0.0                55.0                   0.0   \n",
       "103 St - Corona Plaza_0         0.0                15.0                   0.0   \n",
       "\n",
       "                         York St_0  Zerega Av_0  \n",
       "work_station                                     \n",
       "1 Av_0                         0.0          0.0  \n",
       "103 St - Corona Plaza_0        0.0          0.0  \n",
       "\n",
       "[2 rows x 465 columns]"
      ]
     },
     "execution_count": 9,
     "metadata": {},
     "output_type": "execute_result"
    }
   ],
   "source": [
    "demand.head(2)"
   ]
  },
  {
   "cell_type": "code",
   "execution_count": 10,
   "metadata": {
    "collapsed": false
   },
   "outputs": [],
   "source": [
    "df = demand.iloc[:,0:1].reset_index()\n",
    "df['from_master_id']=df.columns[1]\n",
    "df = df.rename(columns={'work_station':'to_master_id',\n",
    "                  df.columns[1]:'duration_diff'})"
   ]
  },
  {
   "cell_type": "code",
   "execution_count": 11,
   "metadata": {
    "collapsed": true
   },
   "outputs": [],
   "source": [
    "demand_0 = pd.DataFrame()"
   ]
  },
  {
   "cell_type": "code",
   "execution_count": 12,
   "metadata": {
    "collapsed": true
   },
   "outputs": [],
   "source": [
    "for i in range(len(demand.columns)):\n",
    "#for i in range(5):\n",
    "    df = demand.iloc[:,i:i+1].reset_index()\n",
    "    df['from_master_id']=df.columns[1]\n",
    "    df = df.rename(columns={'work_station':'to_master_id',\n",
    "                  df.columns[1]:'demand'})\n",
    "    \n",
    "    demand_0 = pd.concat([demand_0,df])"
   ]
  },
  {
   "cell_type": "code",
   "execution_count": 13,
   "metadata": {
    "collapsed": false
   },
   "outputs": [],
   "source": [
    "demand_0 = demand_0.reset_index(drop=True)"
   ]
  },
  {
   "cell_type": "code",
   "execution_count": 14,
   "metadata": {
    "collapsed": false
   },
   "outputs": [],
   "source": [
    "demand_0 = demand_0[demand_0['to_master_id']!=demand_0['from_master_id']].reset_index(drop= True)"
   ]
  },
  {
   "cell_type": "code",
   "execution_count": 15,
   "metadata": {
    "collapsed": true
   },
   "outputs": [],
   "source": [
    "demand_0.to_csv('demand.csv.gz',compression='gzip')"
   ]
  },
  {
   "cell_type": "code",
   "execution_count": null,
   "metadata": {
    "collapsed": true
   },
   "outputs": [],
   "source": []
  },
  {
   "cell_type": "code",
   "execution_count": null,
   "metadata": {
    "collapsed": true
   },
   "outputs": [],
   "source": []
  },
  {
   "cell_type": "code",
   "execution_count": 4,
   "metadata": {
    "collapsed": true
   },
   "outputs": [],
   "source": [
    "demand_0 = pd.read_csv('demand.csv.gz',compression='gzip')"
   ]
  },
  {
   "cell_type": "code",
   "execution_count": 16,
   "metadata": {
    "collapsed": false
   },
   "outputs": [],
   "source": [
    "duration = pd.read_csv('remove_one_node_duration.csv.gz',compression='gzip')"
   ]
  },
  {
   "cell_type": "code",
   "execution_count": 43,
   "metadata": {
    "collapsed": false,
    "scrolled": true
   },
   "outputs": [],
   "source": [
    "del duration['Unnamed: 0']"
   ]
  },
  {
   "cell_type": "code",
   "execution_count": 35,
   "metadata": {
    "collapsed": false
   },
   "outputs": [],
   "source": [
    "### if none, means not reachable for 1 hour\n",
    "duration = duration.fillna(3600)"
   ]
  },
  {
   "cell_type": "code",
   "execution_count": 46,
   "metadata": {
    "collapsed": false
   },
   "outputs": [],
   "source": [
    "duration_0 = duration.merge(demand_0,on = ['to_master_id','from_master_id'])"
   ]
  },
  {
   "cell_type": "code",
   "execution_count": 49,
   "metadata": {
    "collapsed": false
   },
   "outputs": [],
   "source": [
    "delay = {}\n",
    "for station in duration_0.columns[2:-1]:\n",
    "    delay[station]= sum(np.array(duration.loc[:,station]) *\\\n",
    "                        np.array(duration_0.loc[:,'demand']))\n",
    "    "
   ]
  },
  {
   "cell_type": "code",
   "execution_count": 57,
   "metadata": {
    "collapsed": false
   },
   "outputs": [],
   "source": [
    "delay = pd.DataFrame(sorted(delay.items(), key=lambda x: x[1],reverse=True),columns=['station','delay'])"
   ]
  },
  {
   "cell_type": "code",
   "execution_count": 59,
   "metadata": {
    "collapsed": false
   },
   "outputs": [],
   "source": [
    "delay.to_csv('delay')"
   ]
  }
 ],
 "metadata": {
  "anaconda-cloud": {},
  "kernelspec": {
   "display_name": "Python [conda root]",
   "language": "python",
   "name": "conda-root-py"
  },
  "language_info": {
   "codemirror_mode": {
    "name": "ipython",
    "version": 2
   },
   "file_extension": ".py",
   "mimetype": "text/x-python",
   "name": "python",
   "nbconvert_exporter": "python",
   "pygments_lexer": "ipython2",
   "version": "2.7.12"
  }
 },
 "nbformat": 4,
 "nbformat_minor": 2
}
