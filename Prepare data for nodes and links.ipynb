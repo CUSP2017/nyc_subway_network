{
 "cells": [
  {
   "cell_type": "code",
   "execution_count": 28,
   "metadata": {
    "collapsed": true
   },
   "outputs": [],
   "source": [
    "import pandas as pd\n",
    "import datetime as dt\n",
    "import urllib\n",
    "import zipfile\n",
    "import re\n",
    "from geopy.distance import vincenty"
   ]
  },
  {
   "cell_type": "markdown",
   "metadata": {},
   "source": [
    "## download GTFS data"
   ]
  },
  {
   "cell_type": "code",
   "execution_count": 4,
   "metadata": {
    "collapsed": false
   },
   "outputs": [
    {
     "data": {
      "text/plain": [
       "('GTFS_nyc_Subway.zip', <httplib.HTTPMessage instance at 0x10b381560>)"
      ]
     },
     "execution_count": 4,
     "metadata": {},
     "output_type": "execute_result"
    }
   ],
   "source": [
    "url = 'http://web.mta.info/developers/data/nyct/subway/google_transit.zip'\n",
    "urllib.urlretrieve (url, \"GTFS_nyc_Subway.zip\")"
   ]
  },
  {
   "cell_type": "code",
   "execution_count": 5,
   "metadata": {
    "collapsed": true
   },
   "outputs": [],
   "source": [
    "zip_ref = zipfile.ZipFile(\"GTFS_nyc_Subway.zip\", 'r')\n",
    "zip_ref.extractall(\"GTFS_nyc_Subway\")\n",
    "zip_ref.close()"
   ]
  },
  {
   "cell_type": "markdown",
   "metadata": {},
   "source": [
    "# STRUCTURE OF THIS NOTEBOOK\n",
    "### prepare data for NODES\n",
    "- get lines at each station\n",
    "- get sub nodes\n",
    "- get master nodes\n",
    "\n",
    "### prepare data for LINKS\n",
    "- get duration between stops by train\n",
    "- get transfer between nodes\n",
    "- get waiting time (link between master_node --> sub_node)\n"
   ]
  },
  {
   "cell_type": "code",
   "execution_count": null,
   "metadata": {
    "collapsed": true
   },
   "outputs": [],
   "source": []
  },
  {
   "cell_type": "code",
   "execution_count": null,
   "metadata": {
    "collapsed": true
   },
   "outputs": [],
   "source": []
  },
  {
   "cell_type": "markdown",
   "metadata": {},
   "source": [
    "## get lines at each station"
   ]
  },
  {
   "cell_type": "code",
   "execution_count": 506,
   "metadata": {
    "collapsed": false
   },
   "outputs": [],
   "source": [
    "stop_times= pd.read_csv('GTFS_nyc_Subway/stop_times.txt')"
   ]
  },
  {
   "cell_type": "code",
   "execution_count": 507,
   "metadata": {
    "collapsed": false
   },
   "outputs": [
    {
     "data": {
      "text/html": [
       "<div>\n",
       "<style>\n",
       "    .dataframe thead tr:only-child th {\n",
       "        text-align: right;\n",
       "    }\n",
       "\n",
       "    .dataframe thead th {\n",
       "        text-align: left;\n",
       "    }\n",
       "\n",
       "    .dataframe tbody tr th {\n",
       "        vertical-align: top;\n",
       "    }\n",
       "</style>\n",
       "<table border=\"1\" class=\"dataframe\">\n",
       "  <thead>\n",
       "    <tr style=\"text-align: right;\">\n",
       "      <th></th>\n",
       "      <th>trip_id</th>\n",
       "      <th>arrival_time</th>\n",
       "      <th>departure_time</th>\n",
       "      <th>stop_id</th>\n",
       "      <th>stop_sequence</th>\n",
       "      <th>stop_headsign</th>\n",
       "      <th>pickup_type</th>\n",
       "      <th>drop_off_type</th>\n",
       "      <th>shape_dist_traveled</th>\n",
       "    </tr>\n",
       "  </thead>\n",
       "  <tbody>\n",
       "    <tr>\n",
       "      <th>0</th>\n",
       "      <td>A20170625SUN_001150_7..S97R</td>\n",
       "      <td>00:11:30</td>\n",
       "      <td>00:11:30</td>\n",
       "      <td>701S</td>\n",
       "      <td>1</td>\n",
       "      <td>NaN</td>\n",
       "      <td>0</td>\n",
       "      <td>0</td>\n",
       "      <td>NaN</td>\n",
       "    </tr>\n",
       "    <tr>\n",
       "      <th>1</th>\n",
       "      <td>A20170625SUN_001150_7..S97R</td>\n",
       "      <td>00:14:00</td>\n",
       "      <td>00:14:00</td>\n",
       "      <td>702S</td>\n",
       "      <td>2</td>\n",
       "      <td>NaN</td>\n",
       "      <td>0</td>\n",
       "      <td>0</td>\n",
       "      <td>NaN</td>\n",
       "    </tr>\n",
       "  </tbody>\n",
       "</table>\n",
       "</div>"
      ],
      "text/plain": [
       "                       trip_id arrival_time departure_time stop_id  \\\n",
       "0  A20170625SUN_001150_7..S97R     00:11:30       00:11:30    701S   \n",
       "1  A20170625SUN_001150_7..S97R     00:14:00       00:14:00    702S   \n",
       "\n",
       "   stop_sequence  stop_headsign  pickup_type  drop_off_type  \\\n",
       "0              1            NaN            0              0   \n",
       "1              2            NaN            0              0   \n",
       "\n",
       "   shape_dist_traveled  \n",
       "0                  NaN  \n",
       "1                  NaN  "
      ]
     },
     "execution_count": 507,
     "metadata": {},
     "output_type": "execute_result"
    }
   ],
   "source": [
    "stop_times.head(2)"
   ]
  },
  {
   "cell_type": "code",
   "execution_count": 508,
   "metadata": {
    "collapsed": false
   },
   "outputs": [],
   "source": [
    "# A20170625SUN_001150_7..S97R\n",
    "## A20170625SUN means the service by Sunday Schedule\n",
    "## 001150 is id for the trip, form the 1st stop to last stop, next round would be different id\n",
    "## 7..S97R means 7 train would run South bound,\n",
    "## stop at S97R route ( set of stops of local train and express train are different)\n",
    "stop_times['service_id']=stop_times['trip_id'].apply(lambda x: x.split('_')[0])\n",
    "stop_times['sub_trip_id']=stop_times['trip_id'].apply(lambda x: x.split('_')[1])\n",
    "stop_times['train+direction']=stop_times['trip_id'].apply(lambda x: x.split('_')[2])\n",
    "del stop_times['stop_headsign']\n",
    "del stop_times['pickup_type']\n",
    "del stop_times['drop_off_type']\n",
    "del stop_times['shape_dist_traveled']"
   ]
  },
  {
   "cell_type": "code",
   "execution_count": 510,
   "metadata": {
    "collapsed": true
   },
   "outputs": [],
   "source": [
    "stop_times['train'] = stop_times['train+direction'].apply(lambda x: x.split('.')[0])\n",
    "stop_times['day'] = stop_times['service_id'].apply(lambda x: x[-3:])"
   ]
  },
  {
   "cell_type": "code",
   "execution_count": 518,
   "metadata": {
    "collapsed": false
   },
   "outputs": [],
   "source": [
    "stop_times.loc[stop_times[stop_times['train+direction'].isin(['N..N72R','N..S72R'])].index,['train']]='W'"
   ]
  },
  {
   "cell_type": "code",
   "execution_count": 520,
   "metadata": {
    "collapsed": false
   },
   "outputs": [],
   "source": [
    "stop_times.to_csv('stop_times_cleaned')"
   ]
  },
  {
   "cell_type": "code",
   "execution_count": 521,
   "metadata": {
    "collapsed": false
   },
   "outputs": [],
   "source": [
    "stop_train= stop_times[['stop_id','train']].drop_duplicates()"
   ]
  },
  {
   "cell_type": "code",
   "execution_count": 522,
   "metadata": {
    "collapsed": false
   },
   "outputs": [],
   "source": [
    "stop_train['stop_id'] = map(lambda x:x[:-1],stop_train['stop_id'])"
   ]
  },
  {
   "cell_type": "code",
   "execution_count": 523,
   "metadata": {
    "collapsed": false
   },
   "outputs": [],
   "source": [
    "stop_train = stop_train.drop_duplicates().sort_values(['train','stop_id']).reset_index(drop= True)"
   ]
  },
  {
   "cell_type": "code",
   "execution_count": 525,
   "metadata": {
    "collapsed": false
   },
   "outputs": [
    {
     "data": {
      "text/plain": [
       "{'1',\n",
       " '2',\n",
       " '3',\n",
       " '4',\n",
       " '5',\n",
       " '6',\n",
       " '7',\n",
       " 'A',\n",
       " 'B',\n",
       " 'C',\n",
       " 'D',\n",
       " 'E',\n",
       " 'F',\n",
       " 'FS',\n",
       " 'G',\n",
       " 'GS',\n",
       " 'H',\n",
       " 'J',\n",
       " 'L',\n",
       " 'M',\n",
       " 'N',\n",
       " 'Q',\n",
       " 'R',\n",
       " 'SI',\n",
       " 'W'}"
      ]
     },
     "execution_count": 525,
     "metadata": {},
     "output_type": "execute_result"
    }
   ],
   "source": [
    "set(stop_train.train)"
   ]
  },
  {
   "cell_type": "markdown",
   "metadata": {},
   "source": [
    "No Z train info in schedule data. Z is same as J.\n",
    "\n",
    "FS(Brooklyn), GS(Time sq- Grand Central), H(JFK) are all S train in map, "
   ]
  },
  {
   "cell_type": "code",
   "execution_count": 11,
   "metadata": {
    "collapsed": true
   },
   "outputs": [],
   "source": [
    "stops=pd.read_csv('GTFS_nyc_Subway/stops.txt')"
   ]
  },
  {
   "cell_type": "code",
   "execution_count": 526,
   "metadata": {
    "collapsed": false
   },
   "outputs": [],
   "source": [
    "stop_train = stop_train.merge(stops[['stop_id','stop_name','stop_lat','stop_lon']],on='stop_id',how='left')"
   ]
  },
  {
   "cell_type": "code",
   "execution_count": 527,
   "metadata": {
    "collapsed": false
   },
   "outputs": [
    {
     "data": {
      "text/html": [
       "<div>\n",
       "<style>\n",
       "    .dataframe thead tr:only-child th {\n",
       "        text-align: right;\n",
       "    }\n",
       "\n",
       "    .dataframe thead th {\n",
       "        text-align: left;\n",
       "    }\n",
       "\n",
       "    .dataframe tbody tr th {\n",
       "        vertical-align: top;\n",
       "    }\n",
       "</style>\n",
       "<table border=\"1\" class=\"dataframe\">\n",
       "  <thead>\n",
       "    <tr style=\"text-align: right;\">\n",
       "      <th></th>\n",
       "      <th>stop_id</th>\n",
       "      <th>train</th>\n",
       "      <th>stop_name</th>\n",
       "      <th>stop_lat</th>\n",
       "      <th>stop_lon</th>\n",
       "    </tr>\n",
       "  </thead>\n",
       "  <tbody>\n",
       "    <tr>\n",
       "      <th>0</th>\n",
       "      <td>101</td>\n",
       "      <td>1</td>\n",
       "      <td>Van Cortlandt Park - 242 St</td>\n",
       "      <td>40.889248</td>\n",
       "      <td>-73.898583</td>\n",
       "    </tr>\n",
       "    <tr>\n",
       "      <th>1</th>\n",
       "      <td>103</td>\n",
       "      <td>1</td>\n",
       "      <td>238 St</td>\n",
       "      <td>40.884667</td>\n",
       "      <td>-73.900870</td>\n",
       "    </tr>\n",
       "    <tr>\n",
       "      <th>2</th>\n",
       "      <td>104</td>\n",
       "      <td>1</td>\n",
       "      <td>231 St</td>\n",
       "      <td>40.878856</td>\n",
       "      <td>-73.904834</td>\n",
       "    </tr>\n",
       "    <tr>\n",
       "      <th>3</th>\n",
       "      <td>106</td>\n",
       "      <td>1</td>\n",
       "      <td>Marble Hill - 225 St</td>\n",
       "      <td>40.874561</td>\n",
       "      <td>-73.909831</td>\n",
       "    </tr>\n",
       "    <tr>\n",
       "      <th>4</th>\n",
       "      <td>107</td>\n",
       "      <td>1</td>\n",
       "      <td>215 St</td>\n",
       "      <td>40.869444</td>\n",
       "      <td>-73.915279</td>\n",
       "    </tr>\n",
       "  </tbody>\n",
       "</table>\n",
       "</div>"
      ],
      "text/plain": [
       "  stop_id train                    stop_name   stop_lat   stop_lon\n",
       "0     101     1  Van Cortlandt Park - 242 St  40.889248 -73.898583\n",
       "1     103     1                       238 St  40.884667 -73.900870\n",
       "2     104     1                       231 St  40.878856 -73.904834\n",
       "3     106     1         Marble Hill - 225 St  40.874561 -73.909831\n",
       "4     107     1                       215 St  40.869444 -73.915279"
      ]
     },
     "execution_count": 527,
     "metadata": {},
     "output_type": "execute_result"
    }
   ],
   "source": [
    "stop_train.head()"
   ]
  },
  {
   "cell_type": "code",
   "execution_count": 528,
   "metadata": {
    "collapsed": true
   },
   "outputs": [],
   "source": [
    "stop_train.to_csv('stop_train')"
   ]
  },
  {
   "cell_type": "markdown",
   "metadata": {},
   "source": [
    "## get sub-nodes"
   ]
  },
  {
   "cell_type": "code",
   "execution_count": 529,
   "metadata": {
    "collapsed": false
   },
   "outputs": [],
   "source": [
    "stop_train['node_id']= stop_train['stop_id'] + '_' + stop_train['train']"
   ]
  },
  {
   "cell_type": "code",
   "execution_count": 531,
   "metadata": {
    "collapsed": false
   },
   "outputs": [
    {
     "data": {
      "text/html": [
       "<div>\n",
       "<style>\n",
       "    .dataframe thead tr:only-child th {\n",
       "        text-align: right;\n",
       "    }\n",
       "\n",
       "    .dataframe thead th {\n",
       "        text-align: left;\n",
       "    }\n",
       "\n",
       "    .dataframe tbody tr th {\n",
       "        vertical-align: top;\n",
       "    }\n",
       "</style>\n",
       "<table border=\"1\" class=\"dataframe\">\n",
       "  <thead>\n",
       "    <tr style=\"text-align: right;\">\n",
       "      <th></th>\n",
       "      <th>stop_id</th>\n",
       "      <th>train</th>\n",
       "      <th>stop_name</th>\n",
       "      <th>stop_lat</th>\n",
       "      <th>stop_lon</th>\n",
       "      <th>node_id</th>\n",
       "    </tr>\n",
       "  </thead>\n",
       "  <tbody>\n",
       "    <tr>\n",
       "      <th>0</th>\n",
       "      <td>101</td>\n",
       "      <td>1</td>\n",
       "      <td>Van Cortlandt Park - 242 St</td>\n",
       "      <td>40.889248</td>\n",
       "      <td>-73.898583</td>\n",
       "      <td>101_1</td>\n",
       "    </tr>\n",
       "    <tr>\n",
       "      <th>1</th>\n",
       "      <td>103</td>\n",
       "      <td>1</td>\n",
       "      <td>238 St</td>\n",
       "      <td>40.884667</td>\n",
       "      <td>-73.900870</td>\n",
       "      <td>103_1</td>\n",
       "    </tr>\n",
       "    <tr>\n",
       "      <th>2</th>\n",
       "      <td>104</td>\n",
       "      <td>1</td>\n",
       "      <td>231 St</td>\n",
       "      <td>40.878856</td>\n",
       "      <td>-73.904834</td>\n",
       "      <td>104_1</td>\n",
       "    </tr>\n",
       "    <tr>\n",
       "      <th>3</th>\n",
       "      <td>106</td>\n",
       "      <td>1</td>\n",
       "      <td>Marble Hill - 225 St</td>\n",
       "      <td>40.874561</td>\n",
       "      <td>-73.909831</td>\n",
       "      <td>106_1</td>\n",
       "    </tr>\n",
       "    <tr>\n",
       "      <th>4</th>\n",
       "      <td>107</td>\n",
       "      <td>1</td>\n",
       "      <td>215 St</td>\n",
       "      <td>40.869444</td>\n",
       "      <td>-73.915279</td>\n",
       "      <td>107_1</td>\n",
       "    </tr>\n",
       "  </tbody>\n",
       "</table>\n",
       "</div>"
      ],
      "text/plain": [
       "  stop_id train                    stop_name   stop_lat   stop_lon node_id\n",
       "0     101     1  Van Cortlandt Park - 242 St  40.889248 -73.898583   101_1\n",
       "1     103     1                       238 St  40.884667 -73.900870   103_1\n",
       "2     104     1                       231 St  40.878856 -73.904834   104_1\n",
       "3     106     1         Marble Hill - 225 St  40.874561 -73.909831   106_1\n",
       "4     107     1                       215 St  40.869444 -73.915279   107_1"
      ]
     },
     "execution_count": 531,
     "metadata": {},
     "output_type": "execute_result"
    }
   ],
   "source": [
    "stop_train.head()"
   ]
  },
  {
   "cell_type": "code",
   "execution_count": 535,
   "metadata": {
    "collapsed": true
   },
   "outputs": [],
   "source": [
    "stop_train.to_csv('stop_train')"
   ]
  },
  {
   "cell_type": "markdown",
   "metadata": {},
   "source": [
    "## get master-nodes"
   ]
  },
  {
   "cell_type": "code",
   "execution_count": 533,
   "metadata": {
    "collapsed": false
   },
   "outputs": [],
   "source": [
    "stop_id = stop_train[['stop_id','stop_name','stop_lat','stop_lon']].drop_duplicates()"
   ]
  },
  {
   "cell_type": "code",
   "execution_count": 534,
   "metadata": {
    "collapsed": false
   },
   "outputs": [
    {
     "data": {
      "text/html": [
       "<div>\n",
       "<style>\n",
       "    .dataframe thead tr:only-child th {\n",
       "        text-align: right;\n",
       "    }\n",
       "\n",
       "    .dataframe thead th {\n",
       "        text-align: left;\n",
       "    }\n",
       "\n",
       "    .dataframe tbody tr th {\n",
       "        vertical-align: top;\n",
       "    }\n",
       "</style>\n",
       "<table border=\"1\" class=\"dataframe\">\n",
       "  <thead>\n",
       "    <tr style=\"text-align: right;\">\n",
       "      <th></th>\n",
       "      <th>stop_id</th>\n",
       "      <th>stop_name</th>\n",
       "      <th>stop_lat</th>\n",
       "      <th>stop_lon</th>\n",
       "    </tr>\n",
       "  </thead>\n",
       "  <tbody>\n",
       "    <tr>\n",
       "      <th>0</th>\n",
       "      <td>101</td>\n",
       "      <td>Van Cortlandt Park - 242 St</td>\n",
       "      <td>40.889248</td>\n",
       "      <td>-73.898583</td>\n",
       "    </tr>\n",
       "    <tr>\n",
       "      <th>1</th>\n",
       "      <td>103</td>\n",
       "      <td>238 St</td>\n",
       "      <td>40.884667</td>\n",
       "      <td>-73.900870</td>\n",
       "    </tr>\n",
       "  </tbody>\n",
       "</table>\n",
       "</div>"
      ],
      "text/plain": [
       "  stop_id                    stop_name   stop_lat   stop_lon\n",
       "0     101  Van Cortlandt Park - 242 St  40.889248 -73.898583\n",
       "1     103                       238 St  40.884667 -73.900870"
      ]
     },
     "execution_count": 534,
     "metadata": {},
     "output_type": "execute_result"
    }
   ],
   "source": [
    "stop_id.head(2)"
   ]
  },
  {
   "cell_type": "code",
   "execution_count": 538,
   "metadata": {
    "collapsed": false
   },
   "outputs": [],
   "source": [
    "def find_master(stop_name):\n",
    "    \"\"\"\n",
    "    This function is to distinguish which sub-stations belong to same Master Node\n",
    "    Because some stations have same name, but not belong to same Master node, \n",
    "    eg. there are 3 Canal St Master Node, and 6 sub-nodes,\n",
    "    \n",
    "    So for two sub nodes of same stop_name,\n",
    "    if their distance is more than 0.1 mile,\n",
    "    then these two sub-nodes are under different Master Node\n",
    "    \n",
    "    eg.\n",
    "    if A--B is less than 0.1 mile, A--C less than 0.1 mile, but B--C more than 0.1 mile,\n",
    "    still consider A,B,C are under same master node\n",
    "    \n",
    "    \"\"\"\n",
    "    \n",
    "    \n",
    "    stop_train =pd.DataFrame.from_csv(\"stop_train\")\n",
    "    stop_id = stop_train[['stop_id','stop_name','stop_lat','stop_lon']].drop_duplicates()\n",
    "    \n",
    "    df = stop_id[stop_id['stop_name']== stop_name]\n",
    "    dist = []\n",
    "    for i in range(len(df)):\n",
    "        lat1 = df.iloc[i,2]\n",
    "        lon1 = df.iloc[i,3]\n",
    "        for j in range(i+1,len(df)):\n",
    "            lat2 = df.iloc[j,2]\n",
    "            lon2 = df.iloc[j,3]\n",
    "            dist.append((df.iloc[i,0],df.iloc[j,0],vincenty((lat1,lon1), (lat2,lon2)).miles))\n",
    "            # dist is a list of distance between all the stop_id,\n",
    "            # if distance less than 0.1 mile, consider them as the same station\n",
    "        \n",
    "    # st is stop_id pair, which distance are under 0.1 mile\n",
    "    st = map(lambda x :(x[0],x[1]),filter(lambda x : x[2]<0.1, dist))\n",
    "\n",
    "    #that are under same master node\n",
    "    li = {}\n",
    "    num=0\n",
    "    for i,j in st:\n",
    "        if i in li.keys():\n",
    "            if j in li.keys():\n",
    "                pass\n",
    "            else:\n",
    "                li[j]=li[i]\n",
    "        else:\n",
    "            li[i] = num\n",
    "            li[j] = num\n",
    "            num +=1\n",
    "    for i in df['stop_id'].values:\n",
    "        if i in li.keys():\n",
    "            pass\n",
    "        else:\n",
    "            li[i] = num\n",
    "            num+=1\n",
    "\n",
    "    df['master_node_id']= None\n",
    "    for i in range(len(df)):\n",
    "        stop = df.iloc[i,0]\n",
    "        df.iloc[i,-1]=df.iloc[i,1] + '_' +str(li[stop])\n",
    "    return df"
   ]
  },
  {
   "cell_type": "code",
   "execution_count": 539,
   "metadata": {
    "collapsed": false
   },
   "outputs": [
    {
     "name": "stderr",
     "output_type": "stream",
     "text": [
      "/anaconda/lib/python2.7/site-packages/ipykernel/__main__.py:5: SettingWithCopyWarning: \n",
      "A value is trying to be set on a copy of a slice from a DataFrame.\n",
      "Try using .loc[row_indexer,col_indexer] = value instead\n",
      "\n",
      "See the caveats in the documentation: http://pandas.pydata.org/pandas-docs/stable/indexing.html#indexing-view-versus-copy\n",
      "/anaconda/lib/python2.7/site-packages/ipykernel/__main__.py:56: SettingWithCopyWarning: \n",
      "A value is trying to be set on a copy of a slice from a DataFrame.\n",
      "Try using .loc[row_indexer,col_indexer] = value instead\n",
      "\n",
      "See the caveats in the documentation: http://pandas.pydata.org/pandas-docs/stable/indexing.html#indexing-view-versus-copy\n"
     ]
    }
   ],
   "source": [
    "master_node = pd.DataFrame(columns=stop_id.columns)\n",
    "for stop_name in list(set(stop_train['stop_name'])):\n",
    "    if len(stop_id[stop_id['stop_name']== stop_name])==1:\n",
    "        df = stop_id[stop_id['stop_name']== stop_name]\n",
    "        df['master_node_id'] = df['stop_name']+'_'+'0'\n",
    "        master_node = pd.concat([master_node,df])\n",
    "    else:\n",
    "        master_node = pd.concat([master_node,find_master(stop_name)])"
   ]
  },
  {
   "cell_type": "code",
   "execution_count": 540,
   "metadata": {
    "collapsed": false
   },
   "outputs": [
    {
     "name": "stdout",
     "output_type": "stream",
     "text": [
      "Sub Nodes Number: 493\n",
      "Master Nodes Number: 465\n",
      "Unique Station Name: 373\n"
     ]
    }
   ],
   "source": [
    "print 'Sub Nodes Number:', len(master_node['master_node_id'])\n",
    "print 'Master Nodes Number:', len(set(master_node['master_node_id']))\n",
    "print 'Unique Station Name:', len(set(master_node['stop_name']))"
   ]
  },
  {
   "cell_type": "code",
   "execution_count": 544,
   "metadata": {
    "collapsed": false
   },
   "outputs": [],
   "source": [
    "sub_node = stop_train.merge(master_node[['master_node_id','stop_id']],on='stop_id',how='left')"
   ]
  },
  {
   "cell_type": "code",
   "execution_count": 545,
   "metadata": {
    "collapsed": false
   },
   "outputs": [
    {
     "data": {
      "text/html": [
       "<div>\n",
       "<style>\n",
       "    .dataframe thead tr:only-child th {\n",
       "        text-align: right;\n",
       "    }\n",
       "\n",
       "    .dataframe thead th {\n",
       "        text-align: left;\n",
       "    }\n",
       "\n",
       "    .dataframe tbody tr th {\n",
       "        vertical-align: top;\n",
       "    }\n",
       "</style>\n",
       "<table border=\"1\" class=\"dataframe\">\n",
       "  <thead>\n",
       "    <tr style=\"text-align: right;\">\n",
       "      <th></th>\n",
       "      <th>stop_id</th>\n",
       "      <th>train</th>\n",
       "      <th>stop_name</th>\n",
       "      <th>stop_lat</th>\n",
       "      <th>stop_lon</th>\n",
       "      <th>node_id</th>\n",
       "      <th>master_node_id</th>\n",
       "    </tr>\n",
       "  </thead>\n",
       "  <tbody>\n",
       "    <tr>\n",
       "      <th>0</th>\n",
       "      <td>101</td>\n",
       "      <td>1</td>\n",
       "      <td>Van Cortlandt Park - 242 St</td>\n",
       "      <td>40.889248</td>\n",
       "      <td>-73.898583</td>\n",
       "      <td>101_1</td>\n",
       "      <td>Van Cortlandt Park - 242 St_0</td>\n",
       "    </tr>\n",
       "    <tr>\n",
       "      <th>1</th>\n",
       "      <td>103</td>\n",
       "      <td>1</td>\n",
       "      <td>238 St</td>\n",
       "      <td>40.884667</td>\n",
       "      <td>-73.900870</td>\n",
       "      <td>103_1</td>\n",
       "      <td>238 St_0</td>\n",
       "    </tr>\n",
       "    <tr>\n",
       "      <th>2</th>\n",
       "      <td>104</td>\n",
       "      <td>1</td>\n",
       "      <td>231 St</td>\n",
       "      <td>40.878856</td>\n",
       "      <td>-73.904834</td>\n",
       "      <td>104_1</td>\n",
       "      <td>231 St_0</td>\n",
       "    </tr>\n",
       "    <tr>\n",
       "      <th>3</th>\n",
       "      <td>106</td>\n",
       "      <td>1</td>\n",
       "      <td>Marble Hill - 225 St</td>\n",
       "      <td>40.874561</td>\n",
       "      <td>-73.909831</td>\n",
       "      <td>106_1</td>\n",
       "      <td>Marble Hill - 225 St_0</td>\n",
       "    </tr>\n",
       "    <tr>\n",
       "      <th>4</th>\n",
       "      <td>107</td>\n",
       "      <td>1</td>\n",
       "      <td>215 St</td>\n",
       "      <td>40.869444</td>\n",
       "      <td>-73.915279</td>\n",
       "      <td>107_1</td>\n",
       "      <td>215 St_0</td>\n",
       "    </tr>\n",
       "  </tbody>\n",
       "</table>\n",
       "</div>"
      ],
      "text/plain": [
       "  stop_id train                    stop_name   stop_lat   stop_lon node_id  \\\n",
       "0     101     1  Van Cortlandt Park - 242 St  40.889248 -73.898583   101_1   \n",
       "1     103     1                       238 St  40.884667 -73.900870   103_1   \n",
       "2     104     1                       231 St  40.878856 -73.904834   104_1   \n",
       "3     106     1         Marble Hill - 225 St  40.874561 -73.909831   106_1   \n",
       "4     107     1                       215 St  40.869444 -73.915279   107_1   \n",
       "\n",
       "                  master_node_id  \n",
       "0  Van Cortlandt Park - 242 St_0  \n",
       "1                       238 St_0  \n",
       "2                       231 St_0  \n",
       "3         Marble Hill - 225 St_0  \n",
       "4                       215 St_0  "
      ]
     },
     "execution_count": 545,
     "metadata": {},
     "output_type": "execute_result"
    }
   ],
   "source": [
    "sub_node.head()"
   ]
  },
  {
   "cell_type": "code",
   "execution_count": 546,
   "metadata": {
    "collapsed": false
   },
   "outputs": [],
   "source": [
    "sub_node.to_csv('sub_node')"
   ]
  },
  {
   "cell_type": "code",
   "execution_count": 547,
   "metadata": {
    "collapsed": false
   },
   "outputs": [],
   "source": [
    "master = master_node.copy()"
   ]
  },
  {
   "cell_type": "code",
   "execution_count": 548,
   "metadata": {
    "collapsed": false
   },
   "outputs": [],
   "source": [
    "master = master[['master_node_id','stop_name']].drop_duplicates()"
   ]
  },
  {
   "cell_type": "code",
   "execution_count": 549,
   "metadata": {
    "collapsed": false
   },
   "outputs": [
    {
     "data": {
      "text/html": [
       "<div>\n",
       "<style>\n",
       "    .dataframe thead tr:only-child th {\n",
       "        text-align: right;\n",
       "    }\n",
       "\n",
       "    .dataframe thead th {\n",
       "        text-align: left;\n",
       "    }\n",
       "\n",
       "    .dataframe tbody tr th {\n",
       "        vertical-align: top;\n",
       "    }\n",
       "</style>\n",
       "<table border=\"1\" class=\"dataframe\">\n",
       "  <thead>\n",
       "    <tr style=\"text-align: right;\">\n",
       "      <th></th>\n",
       "      <th>master_node_id</th>\n",
       "      <th>stop_id</th>\n",
       "      <th>stop_lat</th>\n",
       "      <th>stop_lon</th>\n",
       "      <th>stop_name</th>\n",
       "    </tr>\n",
       "  </thead>\n",
       "  <tbody>\n",
       "    <tr>\n",
       "      <th>889</th>\n",
       "      <td>St George_0</td>\n",
       "      <td>S31</td>\n",
       "      <td>40.643748</td>\n",
       "      <td>-74.073643</td>\n",
       "      <td>St George</td>\n",
       "    </tr>\n",
       "    <tr>\n",
       "      <th>298</th>\n",
       "      <td>Hunts Point Av_0</td>\n",
       "      <td>613</td>\n",
       "      <td>40.820948</td>\n",
       "      <td>-73.890549</td>\n",
       "      <td>Hunts Point Av</td>\n",
       "    </tr>\n",
       "    <tr>\n",
       "      <th>874</th>\n",
       "      <td>Huguenot_0</td>\n",
       "      <td>S16</td>\n",
       "      <td>40.533674</td>\n",
       "      <td>-74.191794</td>\n",
       "      <td>Huguenot</td>\n",
       "    </tr>\n",
       "    <tr>\n",
       "      <th>649</th>\n",
       "      <td>85 St - Forest Pkwy_0</td>\n",
       "      <td>J16</td>\n",
       "      <td>40.692435</td>\n",
       "      <td>-73.860010</td>\n",
       "      <td>85 St - Forest Pkwy</td>\n",
       "    </tr>\n",
       "    <tr>\n",
       "      <th>883</th>\n",
       "      <td>Dongan Hills_0</td>\n",
       "      <td>S25</td>\n",
       "      <td>40.588849</td>\n",
       "      <td>-74.096090</td>\n",
       "      <td>Dongan Hills</td>\n",
       "    </tr>\n",
       "  </tbody>\n",
       "</table>\n",
       "</div>"
      ],
      "text/plain": [
       "            master_node_id stop_id   stop_lat   stop_lon            stop_name\n",
       "889            St George_0     S31  40.643748 -74.073643            St George\n",
       "298       Hunts Point Av_0     613  40.820948 -73.890549       Hunts Point Av\n",
       "874             Huguenot_0     S16  40.533674 -74.191794             Huguenot\n",
       "649  85 St - Forest Pkwy_0     J16  40.692435 -73.860010  85 St - Forest Pkwy\n",
       "883         Dongan Hills_0     S25  40.588849 -74.096090         Dongan Hills"
      ]
     },
     "execution_count": 549,
     "metadata": {},
     "output_type": "execute_result"
    }
   ],
   "source": [
    "master_node.head()"
   ]
  },
  {
   "cell_type": "code",
   "execution_count": 550,
   "metadata": {
    "collapsed": false
   },
   "outputs": [],
   "source": [
    "li=[]\n",
    "for i in master['master_node_id'].values:\n",
    "    li.append(','.join(master_node[master_node['master_node_id']==i]['stop_id'].values))\n",
    "master['stop_id']  =li"
   ]
  },
  {
   "cell_type": "code",
   "execution_count": 551,
   "metadata": {
    "collapsed": false
   },
   "outputs": [],
   "source": [
    "master.sort_values('master_node_id').reset_index(drop = True).to_csv('master_node')"
   ]
  },
  {
   "cell_type": "code",
   "execution_count": null,
   "metadata": {
    "collapsed": true
   },
   "outputs": [],
   "source": []
  },
  {
   "cell_type": "code",
   "execution_count": null,
   "metadata": {
    "collapsed": true
   },
   "outputs": [],
   "source": []
  },
  {
   "cell_type": "markdown",
   "metadata": {},
   "source": [
    "## get duration between stops by train"
   ]
  },
  {
   "cell_type": "code",
   "execution_count": 349,
   "metadata": {
    "collapsed": true
   },
   "outputs": [],
   "source": [
    "def find_duration(time1,time2,day='WKD'):\n",
    "    \"\"\"\n",
    "    This funtion is used to get time duration between stops \n",
    "    based on different schedule of time of day.\n",
    "    \n",
    "    (time1,time2) defines train departure time at first stop between time1 and time 2\n",
    "    time1 = 0,1,2,...,23\n",
    "    time2 = 0,1,2,...,23\n",
    "    eg. time1=7,time2=10, then train departure between 7:00:00 and 9:59:59 count\n",
    "    day = 'WKD', 'SAT' or 'SUN'\n",
    "    \"\"\"\n",
    "    ## read stop_times data and prepare it\\\n",
    "    stop_times = pd.read_csv('stop_times_cleaned')\n",
    "    \n",
    "    ## choose schedule only for weekday or sun, or sat.\n",
    "    stop_times = stop_times[stop_times['day']==day]\n",
    "    \n",
    "    \n",
    "    ## get all the sub_trip_id departures from the 1st stops between time1 and time2\n",
    "    morning_rush_trip_id = stop_times[(stop_times['stop_sequence']==1)&\n",
    "                                   stop_times['arrival_time'].isin(\n",
    "                                        filter(lambda x: (int(x[:2])>=time1)&\n",
    "                                       (int(x[:2])<time2),stop_times['arrival_time']))]['sub_trip_id']\n",
    "    \n",
    "    ## get all the schedule of all sub_trip \n",
    "    morning_rush = stop_times[stop_times['sub_trip_id'].isin(morning_rush_trip_id)]\n",
    "    morning_rush['arrival_time'] = pd.to_datetime(morning_rush['arrival_time'])\n",
    "    \n",
    "    ## get all the route id within the time period\n",
    "    start = morning_rush[morning_rush['stop_sequence']==1]\n",
    "    morning_rush_route =  list(set(morning_rush['train+direction'].values))\n",
    "    \n",
    "    ## get length of all the route, for next step purpose-- get the sequence of the route\n",
    "    route_len = {}\n",
    "    for route in morning_rush_route:\n",
    "        if route_len.get(route)==None:\n",
    "            route_len[route]= morning_rush[morning_rush['train+direction'] == route]['stop_sequence'].max()\n",
    "        else:\n",
    "            pass\n",
    "    \n",
    "#    print route_len\n",
    "    ## get schedule of all the routes run within the time period\n",
    "    duration=pd.DataFrame(columns=['from_stop_id','to_stop_id','duration','route'])\n",
    "    for i in route_len.keys():\n",
    "        df = morning_rush[morning_rush['train+direction']==i].iloc[:route_len[i]]\n",
    "        duration_1=pd.DataFrame(columns=['from_stop_id','to_stop_id','duration'])\n",
    "        duration_1['from_stop_id'] = df['stop_id'][:-1].values\n",
    "        duration_1['to_stop_id'] = df['stop_id'][1:].values\n",
    "        duration_1['duration']=map(dt.timedelta.total_seconds,(df['arrival_time'][1:].values-df['arrival_time'][:-1]))\n",
    "        duration_1['route'] = df['train+direction'].values[:-1]\n",
    "        duration = pd.concat([duration,duration_1])\n",
    "        \n",
    "    ## occasionally, duration between two stops by same train is different from different route\n",
    "    ## so I use mean to replace all the duplicates\n",
    "    duration['train'] = map(lambda x:x.split('.')[0],duration['route'])\n",
    "    duration= duration.reset_index(drop=True)\n",
    "#    print set(duration['train'])\n",
    " \n",
    "    duration.loc[duration[duration['route'].isin(['N..N72R','N..S72R'])].index,'train']='W'\n",
    "    duration = pd.DataFrame(duration.groupby(['from_stop_id','to_stop_id','train'])['duration'].mean()).reset_index()\n",
    "    \n",
    "    ## read stops data and merge stops name and geo info with duration dataframe\n",
    "    stops = pd.read_csv('GTFS_nyc_Subway/stops.txt')\n",
    "    \n",
    "    duration = duration.merge(stops.rename(columns={'stop_id':'from_stop_id',\n",
    "                    \"stop_name\":'from_stop_name',\n",
    "                     \"stop_lat\":'from_stop_lat',\n",
    "                     \"stop_lon\":'from_stop_lon'})[['from_stop_id','from_stop_name','from_stop_lat','from_stop_lon']],\n",
    "              on = 'from_stop_id',how = 'left')\n",
    "    duration = duration.merge(stops.rename(columns={'stop_id':'to_stop_id',\n",
    "                    \"stop_name\":'to_stop_name',\n",
    "                     \"stop_lat\":'to_stop_lat',\n",
    "                     \"stop_lon\":'to_stop_lon'})[['to_stop_id','to_stop_name','to_stop_lat','to_stop_lon']],\n",
    "              on = 'to_stop_id',how = 'left')\n",
    "    return duration"
   ]
  },
  {
   "cell_type": "code",
   "execution_count": 351,
   "metadata": {
    "collapsed": false
   },
   "outputs": [
    {
     "name": "stderr",
     "output_type": "stream",
     "text": [
      "//anaconda/lib/python2.7/site-packages/IPython/core/interactiveshell.py:2821: DtypeWarning: Columns (9) have mixed types. Specify dtype option on import or set low_memory=False.\n",
      "  if self.run_code(code, result):\n",
      "/anaconda/lib/python2.7/site-packages/ipykernel/__main__.py:27: SettingWithCopyWarning: \n",
      "A value is trying to be set on a copy of a slice from a DataFrame.\n",
      "Try using .loc[row_indexer,col_indexer] = value instead\n",
      "\n",
      "See the caveats in the documentation: http://pandas.pydata.org/pandas-docs/stable/indexing.html#indexing-view-versus-copy\n"
     ]
    }
   ],
   "source": [
    "duration = find_duration(7,10)"
   ]
  },
  {
   "cell_type": "code",
   "execution_count": 493,
   "metadata": {
    "collapsed": false
   },
   "outputs": [],
   "source": [
    "duration['from_node'] = map(lambda x: x[:-1],duration ['from_stop_id'])\n",
    "duration['to_node'] = map(lambda x: x[:-1],duration ['to_stop_id'])\n",
    "duration['from_node'] = duration['from_node']+ '_' +duration['train']\n",
    "duration['to_node'] = duration['to_node']+ '_' +duration['train']"
   ]
  },
  {
   "cell_type": "code",
   "execution_count": 495,
   "metadata": {
    "collapsed": false
   },
   "outputs": [
    {
     "data": {
      "text/html": [
       "<div>\n",
       "<style>\n",
       "    .dataframe thead tr:only-child th {\n",
       "        text-align: right;\n",
       "    }\n",
       "\n",
       "    .dataframe thead th {\n",
       "        text-align: left;\n",
       "    }\n",
       "\n",
       "    .dataframe tbody tr th {\n",
       "        vertical-align: top;\n",
       "    }\n",
       "</style>\n",
       "<table border=\"1\" class=\"dataframe\">\n",
       "  <thead>\n",
       "    <tr style=\"text-align: right;\">\n",
       "      <th></th>\n",
       "      <th>from_stop_id</th>\n",
       "      <th>to_stop_id</th>\n",
       "      <th>train</th>\n",
       "      <th>duration</th>\n",
       "      <th>from_stop_name</th>\n",
       "      <th>from_stop_lat</th>\n",
       "      <th>from_stop_lon</th>\n",
       "      <th>to_stop_name</th>\n",
       "      <th>to_stop_lat</th>\n",
       "      <th>to_stop_lon</th>\n",
       "      <th>from_node</th>\n",
       "      <th>to_node</th>\n",
       "    </tr>\n",
       "  </thead>\n",
       "  <tbody>\n",
       "    <tr>\n",
       "      <th>0</th>\n",
       "      <td>101S</td>\n",
       "      <td>103S</td>\n",
       "      <td>1</td>\n",
       "      <td>90.0</td>\n",
       "      <td>Van Cortlandt Park - 242 St</td>\n",
       "      <td>40.889248</td>\n",
       "      <td>-73.898583</td>\n",
       "      <td>238 St</td>\n",
       "      <td>40.884667</td>\n",
       "      <td>-73.900870</td>\n",
       "      <td>101_1</td>\n",
       "      <td>103_1</td>\n",
       "    </tr>\n",
       "    <tr>\n",
       "      <th>1</th>\n",
       "      <td>103N</td>\n",
       "      <td>101N</td>\n",
       "      <td>1</td>\n",
       "      <td>90.0</td>\n",
       "      <td>238 St</td>\n",
       "      <td>40.884667</td>\n",
       "      <td>-73.900870</td>\n",
       "      <td>Van Cortlandt Park - 242 St</td>\n",
       "      <td>40.889248</td>\n",
       "      <td>-73.898583</td>\n",
       "      <td>103_1</td>\n",
       "      <td>101_1</td>\n",
       "    </tr>\n",
       "    <tr>\n",
       "      <th>2</th>\n",
       "      <td>103S</td>\n",
       "      <td>104S</td>\n",
       "      <td>1</td>\n",
       "      <td>90.0</td>\n",
       "      <td>238 St</td>\n",
       "      <td>40.884667</td>\n",
       "      <td>-73.900870</td>\n",
       "      <td>231 St</td>\n",
       "      <td>40.878856</td>\n",
       "      <td>-73.904834</td>\n",
       "      <td>103_1</td>\n",
       "      <td>104_1</td>\n",
       "    </tr>\n",
       "    <tr>\n",
       "      <th>3</th>\n",
       "      <td>104N</td>\n",
       "      <td>103N</td>\n",
       "      <td>1</td>\n",
       "      <td>90.0</td>\n",
       "      <td>231 St</td>\n",
       "      <td>40.878856</td>\n",
       "      <td>-73.904834</td>\n",
       "      <td>238 St</td>\n",
       "      <td>40.884667</td>\n",
       "      <td>-73.900870</td>\n",
       "      <td>104_1</td>\n",
       "      <td>103_1</td>\n",
       "    </tr>\n",
       "    <tr>\n",
       "      <th>4</th>\n",
       "      <td>104S</td>\n",
       "      <td>106S</td>\n",
       "      <td>1</td>\n",
       "      <td>90.0</td>\n",
       "      <td>231 St</td>\n",
       "      <td>40.878856</td>\n",
       "      <td>-73.904834</td>\n",
       "      <td>Marble Hill - 225 St</td>\n",
       "      <td>40.874561</td>\n",
       "      <td>-73.909831</td>\n",
       "      <td>104_1</td>\n",
       "      <td>106_1</td>\n",
       "    </tr>\n",
       "  </tbody>\n",
       "</table>\n",
       "</div>"
      ],
      "text/plain": [
       "  from_stop_id to_stop_id train  duration               from_stop_name  \\\n",
       "0         101S       103S     1      90.0  Van Cortlandt Park - 242 St   \n",
       "1         103N       101N     1      90.0                       238 St   \n",
       "2         103S       104S     1      90.0                       238 St   \n",
       "3         104N       103N     1      90.0                       231 St   \n",
       "4         104S       106S     1      90.0                       231 St   \n",
       "\n",
       "   from_stop_lat  from_stop_lon                 to_stop_name  to_stop_lat  \\\n",
       "0      40.889248     -73.898583                       238 St    40.884667   \n",
       "1      40.884667     -73.900870  Van Cortlandt Park - 242 St    40.889248   \n",
       "2      40.884667     -73.900870                       231 St    40.878856   \n",
       "3      40.878856     -73.904834                       238 St    40.884667   \n",
       "4      40.878856     -73.904834         Marble Hill - 225 St    40.874561   \n",
       "\n",
       "   to_stop_lon from_node to_node  \n",
       "0   -73.900870     101_1   103_1  \n",
       "1   -73.898583     103_1   101_1  \n",
       "2   -73.904834     103_1   104_1  \n",
       "3   -73.900870     104_1   103_1  \n",
       "4   -73.909831     104_1   106_1  "
      ]
     },
     "execution_count": 495,
     "metadata": {},
     "output_type": "execute_result"
    }
   ],
   "source": [
    "duration.head()"
   ]
  },
  {
   "cell_type": "code",
   "execution_count": 496,
   "metadata": {
    "collapsed": false
   },
   "outputs": [],
   "source": [
    "duration.to_csv('duration_7-10am_weekday')"
   ]
  },
  {
   "cell_type": "markdown",
   "metadata": {},
   "source": [
    "## get transfer between nodes"
   ]
  },
  {
   "cell_type": "code",
   "execution_count": 366,
   "metadata": {
    "collapsed": false
   },
   "outputs": [
    {
     "data": {
      "text/html": [
       "<div>\n",
       "<style>\n",
       "    .dataframe thead tr:only-child th {\n",
       "        text-align: right;\n",
       "    }\n",
       "\n",
       "    .dataframe thead th {\n",
       "        text-align: left;\n",
       "    }\n",
       "\n",
       "    .dataframe tbody tr th {\n",
       "        vertical-align: top;\n",
       "    }\n",
       "</style>\n",
       "<table border=\"1\" class=\"dataframe\">\n",
       "  <thead>\n",
       "    <tr style=\"text-align: right;\">\n",
       "      <th></th>\n",
       "      <th>from_stop_id</th>\n",
       "      <th>to_stop_id</th>\n",
       "      <th>transfer_type</th>\n",
       "      <th>min_transfer_time</th>\n",
       "    </tr>\n",
       "  </thead>\n",
       "  <tbody>\n",
       "    <tr>\n",
       "      <th>0</th>\n",
       "      <td>101</td>\n",
       "      <td>101</td>\n",
       "      <td>2</td>\n",
       "      <td>180</td>\n",
       "    </tr>\n",
       "    <tr>\n",
       "      <th>1</th>\n",
       "      <td>103</td>\n",
       "      <td>103</td>\n",
       "      <td>2</td>\n",
       "      <td>180</td>\n",
       "    </tr>\n",
       "  </tbody>\n",
       "</table>\n",
       "</div>"
      ],
      "text/plain": [
       "  from_stop_id to_stop_id  transfer_type  min_transfer_time\n",
       "0          101        101              2                180\n",
       "1          103        103              2                180"
      ]
     },
     "execution_count": 366,
     "metadata": {},
     "output_type": "execute_result"
    }
   ],
   "source": [
    "transfer= pd.DataFrame.from_csv('GTFS_nyc_Subway/transfers.txt')\n",
    "transfer  = transfer.reset_index()\n",
    "transfer.head(2)"
   ]
  },
  {
   "cell_type": "code",
   "execution_count": 370,
   "metadata": {
    "collapsed": false
   },
   "outputs": [],
   "source": [
    "transfer['from_stop']=None\n",
    "transfer['to_stop']=None\n",
    "\n",
    "for i in range(len(transfer)):\n",
    "    from_id = transfer.iloc[i,0]\n",
    "    to_id = transfer.iloc[i,1]\n",
    "    try:\n",
    "        transfer.iloc[i,4] = stops[stops['stop_id']==from_id]['stop_name'].values[0]\n",
    "    except IndexError:\n",
    "        print from_id\n",
    "        \n",
    "    try:\n",
    "        transfer.iloc[i,5] = stops[stops['stop_id']==to_id]['stop_name'].values[0]\n",
    "    except IndexError:\n",
    "        print to_id\n"
   ]
  },
  {
   "cell_type": "code",
   "execution_count": 381,
   "metadata": {
    "collapsed": true
   },
   "outputs": [],
   "source": [
    "del transfer['transfer_type']"
   ]
  },
  {
   "cell_type": "code",
   "execution_count": 382,
   "metadata": {
    "collapsed": false
   },
   "outputs": [
    {
     "data": {
      "text/html": [
       "<div>\n",
       "<style>\n",
       "    .dataframe thead tr:only-child th {\n",
       "        text-align: right;\n",
       "    }\n",
       "\n",
       "    .dataframe thead th {\n",
       "        text-align: left;\n",
       "    }\n",
       "\n",
       "    .dataframe tbody tr th {\n",
       "        vertical-align: top;\n",
       "    }\n",
       "</style>\n",
       "<table border=\"1\" class=\"dataframe\">\n",
       "  <thead>\n",
       "    <tr style=\"text-align: right;\">\n",
       "      <th></th>\n",
       "      <th>from_stop_id</th>\n",
       "      <th>to_stop_id</th>\n",
       "      <th>min_transfer_time</th>\n",
       "      <th>from_stop</th>\n",
       "      <th>to_stop</th>\n",
       "    </tr>\n",
       "  </thead>\n",
       "  <tbody>\n",
       "    <tr>\n",
       "      <th>10</th>\n",
       "      <td>112</td>\n",
       "      <td>A09</td>\n",
       "      <td>180</td>\n",
       "      <td>168 St - Washington Hts</td>\n",
       "      <td>168 St</td>\n",
       "    </tr>\n",
       "    <tr>\n",
       "      <th>29</th>\n",
       "      <td>127</td>\n",
       "      <td>A27</td>\n",
       "      <td>300</td>\n",
       "      <td>Times Sq - 42 St</td>\n",
       "      <td>42 St - Port Authority Bus Terminal</td>\n",
       "    </tr>\n",
       "    <tr>\n",
       "      <th>37</th>\n",
       "      <td>132</td>\n",
       "      <td>L02</td>\n",
       "      <td>180</td>\n",
       "      <td>14 St</td>\n",
       "      <td>6 Av</td>\n",
       "    </tr>\n",
       "  </tbody>\n",
       "</table>\n",
       "</div>"
      ],
      "text/plain": [
       "   from_stop_id to_stop_id  min_transfer_time                from_stop  \\\n",
       "10          112        A09                180  168 St - Washington Hts   \n",
       "29          127        A27                300         Times Sq - 42 St   \n",
       "37          132        L02                180                    14 St   \n",
       "\n",
       "                                to_stop  \n",
       "10                               168 St  \n",
       "29  42 St - Port Authority Bus Terminal  \n",
       "37                                 6 Av  "
      ]
     },
     "execution_count": 382,
     "metadata": {},
     "output_type": "execute_result"
    }
   ],
   "source": [
    "transfer[transfer['from_stop']!=transfer['to_stop']].head(3)"
   ]
  },
  {
   "cell_type": "code",
   "execution_count": 384,
   "metadata": {
    "collapsed": false
   },
   "outputs": [],
   "source": [
    "transfer = transfer.merge(sub_node[['stop_id','train']].rename(columns={'stop_id':\"from_stop_id\",\n",
    "                                                            'train':'from_train'}), on='from_stop_id',how = 'left')\n",
    "transfer = transfer.merge(sub_node[['stop_id','train']].rename(columns={'stop_id':\"to_stop_id\",\n",
    "                                                            'train':'to_train'}), on='to_stop_id',how = 'left')"
   ]
  },
  {
   "cell_type": "code",
   "execution_count": 386,
   "metadata": {
    "collapsed": false
   },
   "outputs": [],
   "source": [
    "transfer['from_node_id'] = transfer['from_stop_id']+'_'+transfer['from_train']\n",
    "transfer['to_node_id'] = transfer['to_stop_id']+'_'+transfer['to_train']"
   ]
  },
  {
   "cell_type": "code",
   "execution_count": 388,
   "metadata": {
    "collapsed": false
   },
   "outputs": [
    {
     "data": {
      "text/html": [
       "<div>\n",
       "<style>\n",
       "    .dataframe thead tr:only-child th {\n",
       "        text-align: right;\n",
       "    }\n",
       "\n",
       "    .dataframe thead th {\n",
       "        text-align: left;\n",
       "    }\n",
       "\n",
       "    .dataframe tbody tr th {\n",
       "        vertical-align: top;\n",
       "    }\n",
       "</style>\n",
       "<table border=\"1\" class=\"dataframe\">\n",
       "  <thead>\n",
       "    <tr style=\"text-align: right;\">\n",
       "      <th></th>\n",
       "      <th>from_stop_id</th>\n",
       "      <th>to_stop_id</th>\n",
       "      <th>min_transfer_time</th>\n",
       "      <th>from_stop</th>\n",
       "      <th>to_stop</th>\n",
       "      <th>from_train</th>\n",
       "      <th>to_train</th>\n",
       "      <th>from_node_id</th>\n",
       "      <th>to_node_id</th>\n",
       "    </tr>\n",
       "  </thead>\n",
       "  <tbody>\n",
       "    <tr>\n",
       "      <th>0</th>\n",
       "      <td>101</td>\n",
       "      <td>101</td>\n",
       "      <td>180</td>\n",
       "      <td>Van Cortlandt Park - 242 St</td>\n",
       "      <td>Van Cortlandt Park - 242 St</td>\n",
       "      <td>1</td>\n",
       "      <td>1</td>\n",
       "      <td>101_1</td>\n",
       "      <td>101_1</td>\n",
       "    </tr>\n",
       "    <tr>\n",
       "      <th>1</th>\n",
       "      <td>103</td>\n",
       "      <td>103</td>\n",
       "      <td>180</td>\n",
       "      <td>238 St</td>\n",
       "      <td>238 St</td>\n",
       "      <td>1</td>\n",
       "      <td>1</td>\n",
       "      <td>103_1</td>\n",
       "      <td>103_1</td>\n",
       "    </tr>\n",
       "    <tr>\n",
       "      <th>2</th>\n",
       "      <td>104</td>\n",
       "      <td>104</td>\n",
       "      <td>180</td>\n",
       "      <td>231 St</td>\n",
       "      <td>231 St</td>\n",
       "      <td>1</td>\n",
       "      <td>1</td>\n",
       "      <td>104_1</td>\n",
       "      <td>104_1</td>\n",
       "    </tr>\n",
       "    <tr>\n",
       "      <th>3</th>\n",
       "      <td>106</td>\n",
       "      <td>106</td>\n",
       "      <td>180</td>\n",
       "      <td>Marble Hill - 225 St</td>\n",
       "      <td>Marble Hill - 225 St</td>\n",
       "      <td>1</td>\n",
       "      <td>1</td>\n",
       "      <td>106_1</td>\n",
       "      <td>106_1</td>\n",
       "    </tr>\n",
       "    <tr>\n",
       "      <th>4</th>\n",
       "      <td>107</td>\n",
       "      <td>107</td>\n",
       "      <td>180</td>\n",
       "      <td>215 St</td>\n",
       "      <td>215 St</td>\n",
       "      <td>1</td>\n",
       "      <td>1</td>\n",
       "      <td>107_1</td>\n",
       "      <td>107_1</td>\n",
       "    </tr>\n",
       "  </tbody>\n",
       "</table>\n",
       "</div>"
      ],
      "text/plain": [
       "  from_stop_id to_stop_id  min_transfer_time                    from_stop  \\\n",
       "0          101        101                180  Van Cortlandt Park - 242 St   \n",
       "1          103        103                180                       238 St   \n",
       "2          104        104                180                       231 St   \n",
       "3          106        106                180         Marble Hill - 225 St   \n",
       "4          107        107                180                       215 St   \n",
       "\n",
       "                       to_stop from_train to_train from_node_id to_node_id  \n",
       "0  Van Cortlandt Park - 242 St          1        1        101_1      101_1  \n",
       "1                       238 St          1        1        103_1      103_1  \n",
       "2                       231 St          1        1        104_1      104_1  \n",
       "3         Marble Hill - 225 St          1        1        106_1      106_1  \n",
       "4                       215 St          1        1        107_1      107_1  "
      ]
     },
     "execution_count": 388,
     "metadata": {},
     "output_type": "execute_result"
    }
   ],
   "source": [
    "transfer.head()"
   ]
  },
  {
   "cell_type": "code",
   "execution_count": 500,
   "metadata": {
    "collapsed": false
   },
   "outputs": [],
   "source": [
    "transfer = transfer.dropna(how= 'any')"
   ]
  },
  {
   "cell_type": "code",
   "execution_count": 501,
   "metadata": {
    "collapsed": true
   },
   "outputs": [],
   "source": [
    "transfer.to_csv('transfer')"
   ]
  },
  {
   "cell_type": "code",
   "execution_count": null,
   "metadata": {
    "collapsed": true
   },
   "outputs": [],
   "source": []
  },
  {
   "cell_type": "markdown",
   "metadata": {},
   "source": [
    "## Links: master_node --> sub_node"
   ]
  },
  {
   "cell_type": "code",
   "execution_count": 412,
   "metadata": {
    "collapsed": false
   },
   "outputs": [],
   "source": [
    "stop_times['node_id'] = map(lambda x,y : x+'_'+y,map(lambda x: x[:-1],stop_times['stop_id']),stop_times['train'])"
   ]
  },
  {
   "cell_type": "code",
   "execution_count": 467,
   "metadata": {
    "collapsed": false
   },
   "outputs": [],
   "source": [
    "def train_interval(time,node_id,day='WKD',time_delta=1):\n",
    "    \"\"\"\n",
    "    eg. time=7, node_id='R36_R',\n",
    "    this function is to find all the R train stops at R36 station between 7:00:00 to 7:59:59\n",
    "    there are 16 R trains stops there.\n",
    "    Consider North bound and South bound, 2 direction, then divide by 2\n",
    "    8 R trains in one direction within 1 hour\n",
    "    return 8\n",
    "    \"\"\"\n",
    "    df= stop_times[(stop_times['day']==day)&(stop_times['node_id'] == node_id)].sort_values('arrival_time')\n",
    "    df = df[df['arrival_time'].isin(filter(lambda x: (int(x[:2])>=time)&\n",
    "                                       (int(x[:2])<(time+time_delta)),df['arrival_time']))]\n",
    "    train_num = len(df)*1.0/2\n",
    "    return train_num"
   ]
  },
  {
   "cell_type": "code",
   "execution_count": 469,
   "metadata": {
    "collapsed": false
   },
   "outputs": [
    {
     "data": {
      "text/plain": [
       "24.5"
      ]
     },
     "execution_count": 469,
     "metadata": {},
     "output_type": "execute_result"
    }
   ],
   "source": [
    "train_interval(time=7, node_id='R36_R',time_delta=3)"
   ]
  },
  {
   "cell_type": "code",
   "execution_count": 463,
   "metadata": {
    "collapsed": true
   },
   "outputs": [],
   "source": [
    "waiting = sub_node.copy()"
   ]
  },
  {
   "cell_type": "code",
   "execution_count": 464,
   "metadata": {
    "collapsed": false
   },
   "outputs": [
    {
     "data": {
      "text/html": [
       "<div>\n",
       "<style>\n",
       "    .dataframe thead tr:only-child th {\n",
       "        text-align: right;\n",
       "    }\n",
       "\n",
       "    .dataframe thead th {\n",
       "        text-align: left;\n",
       "    }\n",
       "\n",
       "    .dataframe tbody tr th {\n",
       "        vertical-align: top;\n",
       "    }\n",
       "</style>\n",
       "<table border=\"1\" class=\"dataframe\">\n",
       "  <thead>\n",
       "    <tr style=\"text-align: right;\">\n",
       "      <th></th>\n",
       "      <th>stop_id</th>\n",
       "      <th>train</th>\n",
       "      <th>stop_name</th>\n",
       "      <th>stop_lat</th>\n",
       "      <th>stop_lon</th>\n",
       "      <th>node_id</th>\n",
       "      <th>master_node_id</th>\n",
       "    </tr>\n",
       "  </thead>\n",
       "  <tbody>\n",
       "    <tr>\n",
       "      <th>0</th>\n",
       "      <td>101</td>\n",
       "      <td>1</td>\n",
       "      <td>Van Cortlandt Park - 242 St</td>\n",
       "      <td>40.889248</td>\n",
       "      <td>-73.898583</td>\n",
       "      <td>101_1</td>\n",
       "      <td>Van Cortlandt Park - 242 St_0</td>\n",
       "    </tr>\n",
       "    <tr>\n",
       "      <th>1</th>\n",
       "      <td>103</td>\n",
       "      <td>1</td>\n",
       "      <td>238 St</td>\n",
       "      <td>40.884667</td>\n",
       "      <td>-73.900870</td>\n",
       "      <td>103_1</td>\n",
       "      <td>238 St_0</td>\n",
       "    </tr>\n",
       "    <tr>\n",
       "      <th>2</th>\n",
       "      <td>104</td>\n",
       "      <td>1</td>\n",
       "      <td>231 St</td>\n",
       "      <td>40.878856</td>\n",
       "      <td>-73.904834</td>\n",
       "      <td>104_1</td>\n",
       "      <td>231 St_0</td>\n",
       "    </tr>\n",
       "    <tr>\n",
       "      <th>3</th>\n",
       "      <td>106</td>\n",
       "      <td>1</td>\n",
       "      <td>Marble Hill - 225 St</td>\n",
       "      <td>40.874561</td>\n",
       "      <td>-73.909831</td>\n",
       "      <td>106_1</td>\n",
       "      <td>Marble Hill - 225 St_0</td>\n",
       "    </tr>\n",
       "    <tr>\n",
       "      <th>4</th>\n",
       "      <td>107</td>\n",
       "      <td>1</td>\n",
       "      <td>215 St</td>\n",
       "      <td>40.869444</td>\n",
       "      <td>-73.915279</td>\n",
       "      <td>107_1</td>\n",
       "      <td>215 St_0</td>\n",
       "    </tr>\n",
       "  </tbody>\n",
       "</table>\n",
       "</div>"
      ],
      "text/plain": [
       "  stop_id train                    stop_name   stop_lat   stop_lon node_id  \\\n",
       "0     101     1  Van Cortlandt Park - 242 St  40.889248 -73.898583   101_1   \n",
       "1     103     1                       238 St  40.884667 -73.900870   103_1   \n",
       "2     104     1                       231 St  40.878856 -73.904834   104_1   \n",
       "3     106     1         Marble Hill - 225 St  40.874561 -73.909831   106_1   \n",
       "4     107     1                       215 St  40.869444 -73.915279   107_1   \n",
       "\n",
       "                  master_node_id  \n",
       "0  Van Cortlandt Park - 242 St_0  \n",
       "1                       238 St_0  \n",
       "2                       231 St_0  \n",
       "3         Marble Hill - 225 St_0  \n",
       "4                       215 St_0  "
      ]
     },
     "execution_count": 464,
     "metadata": {},
     "output_type": "execute_result"
    }
   ],
   "source": [
    "waiting.head()"
   ]
  },
  {
   "cell_type": "code",
   "execution_count": 472,
   "metadata": {
    "collapsed": false
   },
   "outputs": [],
   "source": [
    "# train_num is number of trains in one direction\n",
    "## here I find train_num for 3 hours, from 7:00 to 10:00\n",
    "waiting['train_num'] = None\n",
    "for i in range(len(waiting)):\n",
    "    node_id = waiting.loc[i,'node_id']\n",
    "    train_num = train_interval(time=7, node_id=node_id,time_delta=3)\n",
    "    waiting.loc[i,'train_num']= train_num"
   ]
  },
  {
   "cell_type": "code",
   "execution_count": 479,
   "metadata": {
    "collapsed": false
   },
   "outputs": [
    {
     "data": {
      "text/html": [
       "<div>\n",
       "<style>\n",
       "    .dataframe thead tr:only-child th {\n",
       "        text-align: right;\n",
       "    }\n",
       "\n",
       "    .dataframe thead th {\n",
       "        text-align: left;\n",
       "    }\n",
       "\n",
       "    .dataframe tbody tr th {\n",
       "        vertical-align: top;\n",
       "    }\n",
       "</style>\n",
       "<table border=\"1\" class=\"dataframe\">\n",
       "  <thead>\n",
       "    <tr style=\"text-align: right;\">\n",
       "      <th></th>\n",
       "      <th>stop_id</th>\n",
       "      <th>train</th>\n",
       "      <th>stop_name</th>\n",
       "      <th>stop_lat</th>\n",
       "      <th>stop_lon</th>\n",
       "      <th>node_id</th>\n",
       "      <th>master_node_id</th>\n",
       "      <th>train_num</th>\n",
       "    </tr>\n",
       "  </thead>\n",
       "  <tbody>\n",
       "    <tr>\n",
       "      <th>38</th>\n",
       "      <td>121</td>\n",
       "      <td>2</td>\n",
       "      <td>86 St</td>\n",
       "      <td>40.788644</td>\n",
       "      <td>-73.976218</td>\n",
       "      <td>121_2</td>\n",
       "      <td>86 St_0</td>\n",
       "      <td>0</td>\n",
       "    </tr>\n",
       "    <tr>\n",
       "      <th>39</th>\n",
       "      <td>122</td>\n",
       "      <td>2</td>\n",
       "      <td>79 St</td>\n",
       "      <td>40.783934</td>\n",
       "      <td>-73.979917</td>\n",
       "      <td>122_2</td>\n",
       "      <td>79 St_0</td>\n",
       "      <td>0</td>\n",
       "    </tr>\n",
       "    <tr>\n",
       "      <th>41</th>\n",
       "      <td>124</td>\n",
       "      <td>2</td>\n",
       "      <td>66 St - Lincoln Center</td>\n",
       "      <td>40.773440</td>\n",
       "      <td>-73.982209</td>\n",
       "      <td>124_2</td>\n",
       "      <td>66 St - Lincoln Center_0</td>\n",
       "      <td>0</td>\n",
       "    </tr>\n",
       "    <tr>\n",
       "      <th>42</th>\n",
       "      <td>125</td>\n",
       "      <td>2</td>\n",
       "      <td>59 St - Columbus Circle</td>\n",
       "      <td>40.768247</td>\n",
       "      <td>-73.981929</td>\n",
       "      <td>125_2</td>\n",
       "      <td>59 St - Columbus Circle_0</td>\n",
       "      <td>0</td>\n",
       "    </tr>\n",
       "    <tr>\n",
       "      <th>43</th>\n",
       "      <td>126</td>\n",
       "      <td>2</td>\n",
       "      <td>50 St</td>\n",
       "      <td>40.761728</td>\n",
       "      <td>-73.983849</td>\n",
       "      <td>126_2</td>\n",
       "      <td>50 St_0</td>\n",
       "      <td>0</td>\n",
       "    </tr>\n",
       "  </tbody>\n",
       "</table>\n",
       "</div>"
      ],
      "text/plain": [
       "   stop_id train                stop_name   stop_lat   stop_lon node_id  \\\n",
       "38     121     2                    86 St  40.788644 -73.976218   121_2   \n",
       "39     122     2                    79 St  40.783934 -73.979917   122_2   \n",
       "41     124     2   66 St - Lincoln Center  40.773440 -73.982209   124_2   \n",
       "42     125     2  59 St - Columbus Circle  40.768247 -73.981929   125_2   \n",
       "43     126     2                    50 St  40.761728 -73.983849   126_2   \n",
       "\n",
       "               master_node_id train_num  \n",
       "38                    86 St_0         0  \n",
       "39                    79 St_0         0  \n",
       "41   66 St - Lincoln Center_0         0  \n",
       "42  59 St - Columbus Circle_0         0  \n",
       "43                    50 St_0         0  "
      ]
     },
     "execution_count": 479,
     "metadata": {},
     "output_type": "execute_result"
    }
   ],
   "source": [
    "waiting[waiting['train_num']==0].head()"
   ]
  },
  {
   "cell_type": "markdown",
   "metadata": {},
   "source": [
    "These stations have no train going through. The main reason is the node_id take all the late night schedule into consideration. But some trains don't stop at those stations during rush hour/ daytime schedule."
   ]
  },
  {
   "cell_type": "code",
   "execution_count": 480,
   "metadata": {
    "collapsed": true
   },
   "outputs": [],
   "source": [
    "waiting = waiting[waiting['train_num']!=0].reset_index(drop=True)"
   ]
  },
  {
   "cell_type": "code",
   "execution_count": 483,
   "metadata": {
    "collapsed": false
   },
   "outputs": [],
   "source": [
    "waiting['interval'] = (3*60/waiting['train_num'])*60"
   ]
  },
  {
   "cell_type": "code",
   "execution_count": 487,
   "metadata": {
    "collapsed": false
   },
   "outputs": [
    {
     "data": {
      "text/html": [
       "<div>\n",
       "<style>\n",
       "    .dataframe thead tr:only-child th {\n",
       "        text-align: right;\n",
       "    }\n",
       "\n",
       "    .dataframe thead th {\n",
       "        text-align: left;\n",
       "    }\n",
       "\n",
       "    .dataframe tbody tr th {\n",
       "        vertical-align: top;\n",
       "    }\n",
       "</style>\n",
       "<table border=\"1\" class=\"dataframe\">\n",
       "  <thead>\n",
       "    <tr style=\"text-align: right;\">\n",
       "      <th></th>\n",
       "      <th>stop_id</th>\n",
       "      <th>train</th>\n",
       "      <th>stop_name</th>\n",
       "      <th>stop_lat</th>\n",
       "      <th>stop_lon</th>\n",
       "      <th>node_id</th>\n",
       "      <th>master_node_id</th>\n",
       "      <th>train_num</th>\n",
       "      <th>interval</th>\n",
       "    </tr>\n",
       "  </thead>\n",
       "  <tbody>\n",
       "    <tr>\n",
       "      <th>0</th>\n",
       "      <td>101</td>\n",
       "      <td>1</td>\n",
       "      <td>Van Cortlandt Park - 242 St</td>\n",
       "      <td>40.889248</td>\n",
       "      <td>-73.898583</td>\n",
       "      <td>101_1</td>\n",
       "      <td>Van Cortlandt Park - 242 St_0</td>\n",
       "      <td>29</td>\n",
       "      <td>372.414</td>\n",
       "    </tr>\n",
       "    <tr>\n",
       "      <th>1</th>\n",
       "      <td>103</td>\n",
       "      <td>1</td>\n",
       "      <td>238 St</td>\n",
       "      <td>40.884667</td>\n",
       "      <td>-73.900870</td>\n",
       "      <td>103_1</td>\n",
       "      <td>238 St_0</td>\n",
       "      <td>33</td>\n",
       "      <td>327.273</td>\n",
       "    </tr>\n",
       "    <tr>\n",
       "      <th>2</th>\n",
       "      <td>104</td>\n",
       "      <td>1</td>\n",
       "      <td>231 St</td>\n",
       "      <td>40.878856</td>\n",
       "      <td>-73.904834</td>\n",
       "      <td>104_1</td>\n",
       "      <td>231 St_0</td>\n",
       "      <td>33</td>\n",
       "      <td>327.273</td>\n",
       "    </tr>\n",
       "    <tr>\n",
       "      <th>3</th>\n",
       "      <td>106</td>\n",
       "      <td>1</td>\n",
       "      <td>Marble Hill - 225 St</td>\n",
       "      <td>40.874561</td>\n",
       "      <td>-73.909831</td>\n",
       "      <td>106_1</td>\n",
       "      <td>Marble Hill - 225 St_0</td>\n",
       "      <td>33.5</td>\n",
       "      <td>322.388</td>\n",
       "    </tr>\n",
       "    <tr>\n",
       "      <th>4</th>\n",
       "      <td>107</td>\n",
       "      <td>1</td>\n",
       "      <td>215 St</td>\n",
       "      <td>40.869444</td>\n",
       "      <td>-73.915279</td>\n",
       "      <td>107_1</td>\n",
       "      <td>215 St_0</td>\n",
       "      <td>34.5</td>\n",
       "      <td>313.043</td>\n",
       "    </tr>\n",
       "  </tbody>\n",
       "</table>\n",
       "</div>"
      ],
      "text/plain": [
       "  stop_id train                    stop_name   stop_lat   stop_lon node_id  \\\n",
       "0     101     1  Van Cortlandt Park - 242 St  40.889248 -73.898583   101_1   \n",
       "1     103     1                       238 St  40.884667 -73.900870   103_1   \n",
       "2     104     1                       231 St  40.878856 -73.904834   104_1   \n",
       "3     106     1         Marble Hill - 225 St  40.874561 -73.909831   106_1   \n",
       "4     107     1                       215 St  40.869444 -73.915279   107_1   \n",
       "\n",
       "                  master_node_id train_num interval  \n",
       "0  Van Cortlandt Park - 242 St_0        29  372.414  \n",
       "1                       238 St_0        33  327.273  \n",
       "2                       231 St_0        33  327.273  \n",
       "3         Marble Hill - 225 St_0      33.5  322.388  \n",
       "4                       215 St_0      34.5  313.043  "
      ]
     },
     "execution_count": 487,
     "metadata": {},
     "output_type": "execute_result"
    }
   ],
   "source": [
    "waiting.head()"
   ]
  },
  {
   "cell_type": "code",
   "execution_count": 489,
   "metadata": {
    "collapsed": false
   },
   "outputs": [],
   "source": [
    "waiting['waiting'] =waiting['interval']/2"
   ]
  },
  {
   "cell_type": "code",
   "execution_count": 490,
   "metadata": {
    "collapsed": false
   },
   "outputs": [
    {
     "data": {
      "text/html": [
       "<div>\n",
       "<style>\n",
       "    .dataframe thead tr:only-child th {\n",
       "        text-align: right;\n",
       "    }\n",
       "\n",
       "    .dataframe thead th {\n",
       "        text-align: left;\n",
       "    }\n",
       "\n",
       "    .dataframe tbody tr th {\n",
       "        vertical-align: top;\n",
       "    }\n",
       "</style>\n",
       "<table border=\"1\" class=\"dataframe\">\n",
       "  <thead>\n",
       "    <tr style=\"text-align: right;\">\n",
       "      <th></th>\n",
       "      <th>stop_id</th>\n",
       "      <th>train</th>\n",
       "      <th>stop_name</th>\n",
       "      <th>stop_lat</th>\n",
       "      <th>stop_lon</th>\n",
       "      <th>node_id</th>\n",
       "      <th>master_node_id</th>\n",
       "      <th>train_num</th>\n",
       "      <th>interval</th>\n",
       "      <th>waiting</th>\n",
       "    </tr>\n",
       "  </thead>\n",
       "  <tbody>\n",
       "    <tr>\n",
       "      <th>0</th>\n",
       "      <td>101</td>\n",
       "      <td>1</td>\n",
       "      <td>Van Cortlandt Park - 242 St</td>\n",
       "      <td>40.889248</td>\n",
       "      <td>-73.898583</td>\n",
       "      <td>101_1</td>\n",
       "      <td>Van Cortlandt Park - 242 St_0</td>\n",
       "      <td>29</td>\n",
       "      <td>372.414</td>\n",
       "      <td>186.207</td>\n",
       "    </tr>\n",
       "    <tr>\n",
       "      <th>1</th>\n",
       "      <td>103</td>\n",
       "      <td>1</td>\n",
       "      <td>238 St</td>\n",
       "      <td>40.884667</td>\n",
       "      <td>-73.900870</td>\n",
       "      <td>103_1</td>\n",
       "      <td>238 St_0</td>\n",
       "      <td>33</td>\n",
       "      <td>327.273</td>\n",
       "      <td>163.636</td>\n",
       "    </tr>\n",
       "    <tr>\n",
       "      <th>2</th>\n",
       "      <td>104</td>\n",
       "      <td>1</td>\n",
       "      <td>231 St</td>\n",
       "      <td>40.878856</td>\n",
       "      <td>-73.904834</td>\n",
       "      <td>104_1</td>\n",
       "      <td>231 St_0</td>\n",
       "      <td>33</td>\n",
       "      <td>327.273</td>\n",
       "      <td>163.636</td>\n",
       "    </tr>\n",
       "    <tr>\n",
       "      <th>3</th>\n",
       "      <td>106</td>\n",
       "      <td>1</td>\n",
       "      <td>Marble Hill - 225 St</td>\n",
       "      <td>40.874561</td>\n",
       "      <td>-73.909831</td>\n",
       "      <td>106_1</td>\n",
       "      <td>Marble Hill - 225 St_0</td>\n",
       "      <td>33.5</td>\n",
       "      <td>322.388</td>\n",
       "      <td>161.194</td>\n",
       "    </tr>\n",
       "    <tr>\n",
       "      <th>4</th>\n",
       "      <td>107</td>\n",
       "      <td>1</td>\n",
       "      <td>215 St</td>\n",
       "      <td>40.869444</td>\n",
       "      <td>-73.915279</td>\n",
       "      <td>107_1</td>\n",
       "      <td>215 St_0</td>\n",
       "      <td>34.5</td>\n",
       "      <td>313.043</td>\n",
       "      <td>156.522</td>\n",
       "    </tr>\n",
       "  </tbody>\n",
       "</table>\n",
       "</div>"
      ],
      "text/plain": [
       "  stop_id train                    stop_name   stop_lat   stop_lon node_id  \\\n",
       "0     101     1  Van Cortlandt Park - 242 St  40.889248 -73.898583   101_1   \n",
       "1     103     1                       238 St  40.884667 -73.900870   103_1   \n",
       "2     104     1                       231 St  40.878856 -73.904834   104_1   \n",
       "3     106     1         Marble Hill - 225 St  40.874561 -73.909831   106_1   \n",
       "4     107     1                       215 St  40.869444 -73.915279   107_1   \n",
       "\n",
       "                  master_node_id train_num interval  waiting  \n",
       "0  Van Cortlandt Park - 242 St_0        29  372.414  186.207  \n",
       "1                       238 St_0        33  327.273  163.636  \n",
       "2                       231 St_0        33  327.273  163.636  \n",
       "3         Marble Hill - 225 St_0      33.5  322.388  161.194  \n",
       "4                       215 St_0      34.5  313.043  156.522  "
      ]
     },
     "execution_count": 490,
     "metadata": {},
     "output_type": "execute_result"
    }
   ],
   "source": [
    "waiting.head()"
   ]
  },
  {
   "cell_type": "code",
   "execution_count": 491,
   "metadata": {
    "collapsed": true
   },
   "outputs": [],
   "source": [
    "waiting.to_csv('waiting')"
   ]
  }
 ],
 "metadata": {
  "anaconda-cloud": {},
  "kernelspec": {
   "display_name": "Python [conda root]",
   "language": "python",
   "name": "conda-root-py"
  }
 },
 "nbformat": 4,
 "nbformat_minor": 2
}
